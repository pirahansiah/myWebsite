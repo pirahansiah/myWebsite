{
 "cells": [
  {
   "cell_type": "markdown",
   "metadata": {},
   "source": [
    "# MLX_CoreML_Metal_\n"
   ]
  },
  {
   "cell_type": "markdown",
   "metadata": {},
   "source": []
  },
  {
   "cell_type": "markdown",
   "metadata": {},
   "source": []
  },
  {
   "cell_type": "code",
   "execution_count": 1,
   "metadata": {},
   "outputs": [
    {
     "name": "stdout",
     "output_type": "stream",
     "text": [
      "True\n",
      "False\n"
     ]
    }
   ],
   "source": [
    "#Here’s an example of how to implement a Value Object in Python using the concept of immutability and equality by value:\n",
    "from dataclasses import dataclass\n",
    "\n",
    "@dataclass(frozen=True)  # frozen=True makes the object immutable\n",
    "class Money:\n",
    "    amount: float\n",
    "    currency: str\n",
    "\n",
    "    def __eq__(self, other):\n",
    "        if isinstance(other, Money):\n",
    "            return (self.amount, self.currency) == (other.amount, other.currency)\n",
    "        return False\n",
    "\n",
    "# Example usage\n",
    "money1 = Money(100, 'USD')\n",
    "money2 = Money(100, 'USD')\n",
    "money3 = Money(200, 'EUR')\n",
    "\n",
    "print(money1 == money2)  # True, same amount and currency\n",
    "print(money1 == money3)  # False, different amount and currency\n",
    "# Explanation:\n",
    "\n",
    "# \t1.\tImmutability: The frozen=True argument in the @dataclass decorator makes the Money objects immutable, meaning their fields cannot be modified after they are created.\n",
    "# \t2.\tEquality by value: The __eq__ method compares amount and currency values to determine equality.\n",
    "# \t3.\tNo identity: These objects are considered equal based solely on their values, not on their memory address.\n",
    "\n",
    "# In this example, two instances of Money with the same amount and currency are considered equal, while those with different values are not.\n"
   ]
  },
  {
   "cell_type": "code",
   "execution_count": 2,
   "metadata": {},
   "outputs": [],
   "source": [
    "import mlx.core as mx\n",
    "a = mx.array([1, 2, 3, 4])\n",
    "b = mx.array([1.0, 2.0, 3.0, 4.0])"
   ]
  },
  {
   "cell_type": "markdown",
   "metadata": {},
   "source": []
  },
  {
   "cell_type": "code",
   "execution_count": 3,
   "metadata": {},
   "outputs": [
    {
     "data": {
      "text/plain": [
       "(4,)"
      ]
     },
     "execution_count": 3,
     "metadata": {},
     "output_type": "execute_result"
    }
   ],
   "source": [
    "a.shape"
   ]
  },
  {
   "cell_type": "code",
   "execution_count": 4,
   "metadata": {},
   "outputs": [
    {
     "data": {
      "text/plain": [
       "mlx.core.int32"
      ]
     },
     "execution_count": 4,
     "metadata": {},
     "output_type": "execute_result"
    }
   ],
   "source": [
    "a.dtype"
   ]
  },
  {
   "cell_type": "code",
   "execution_count": 5,
   "metadata": {},
   "outputs": [
    {
     "data": {
      "text/plain": [
       "array([1, 2, 3, 4], dtype=float32)"
      ]
     },
     "execution_count": 5,
     "metadata": {},
     "output_type": "execute_result"
    }
   ],
   "source": [
    "b"
   ]
  },
  {
   "cell_type": "code",
   "execution_count": null,
   "metadata": {},
   "outputs": [],
   "source": []
  }
 ],
 "metadata": {
  "kernelspec": {
   "display_name": "farshid",
   "language": "python",
   "name": "python3"
  },
  "language_info": {
   "codemirror_mode": {
    "name": "ipython",
    "version": 3
   },
   "file_extension": ".py",
   "mimetype": "text/x-python",
   "name": "python",
   "nbconvert_exporter": "python",
   "pygments_lexer": "ipython3",
   "version": "3.12.2"
  }
 },
 "nbformat": 4,
 "nbformat_minor": 2
}
