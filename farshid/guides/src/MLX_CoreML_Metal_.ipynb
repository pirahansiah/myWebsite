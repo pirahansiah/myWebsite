{
 "cells": [
  {
   "cell_type": "markdown",
   "metadata": {},
   "source": [
    "# MLX_CoreML_Metal_\n"
   ]
  },
  {
   "cell_type": "markdown",
   "metadata": {},
   "source": []
  },
  {
   "cell_type": "markdown",
   "metadata": {},
   "source": []
  },
  {
   "cell_type": "code",
   "execution_count": 1,
   "metadata": {},
   "outputs": [
    {
     "name": "stdout",
     "output_type": "stream",
     "text": [
      "True\n",
      "False\n"
     ]
    }
   ],
   "source": [
    "#Here’s an example of how to implement a Value Object in Python using the concept of immutability and equality by value:\n",
    "from dataclasses import dataclass\n",
    "\n",
    "@dataclass(frozen=True)  # frozen=True makes the object immutable\n",
    "class Money:\n",
    "    amount: float\n",
    "    currency: str\n",
    "\n",
    "    def __eq__(self, other):\n",
    "        if isinstance(other, Money):\n",
    "            return (self.amount, self.currency) == (other.amount, other.currency)\n",
    "        return False\n",
    "\n",
    "# Example usage\n",
    "money1 = Money(100, 'USD')\n",
    "money2 = Money(100, 'USD')\n",
    "money3 = Money(200, 'EUR')\n",
    "\n",
    "print(money1 == money2)  # True, same amount and currency\n",
    "print(money1 == money3)  # False, different amount and currency\n",
    "# Explanation:\n",
    "\n",
    "# \t1.\tImmutability: The frozen=True argument in the @dataclass decorator makes the Money objects immutable, meaning their fields cannot be modified after they are created.\n",
    "# \t2.\tEquality by value: The __eq__ method compares amount and currency values to determine equality.\n",
    "# \t3.\tNo identity: These objects are considered equal based solely on their values, not on their memory address.\n",
    "\n",
    "# In this example, two instances of Money with the same amount and currency are considered equal, while those with different values are not.\n"
   ]
  },
  {
   "cell_type": "code",
   "execution_count": 2,
   "metadata": {},
   "outputs": [],
   "source": [
    "import mlx.core as mx\n",
    "a = mx.array([1, 2, 3, 4])\n",
    "b = mx.array([1.0, 2.0, 3.0, 4.0])"
   ]
  },
  {
   "cell_type": "markdown",
   "metadata": {},
   "source": []
  },
  {
   "cell_type": "code",
   "execution_count": 3,
   "metadata": {},
   "outputs": [
    {
     "data": {
      "text/plain": [
       "(4,)"
      ]
     },
     "execution_count": 3,
     "metadata": {},
     "output_type": "execute_result"
    }
   ],
   "source": [
    "a.shape"
   ]
  },
  {
   "cell_type": "code",
   "execution_count": 4,
   "metadata": {},
   "outputs": [
    {
     "data": {
      "text/plain": [
       "mlx.core.int32"
      ]
     },
     "execution_count": 4,
     "metadata": {},
     "output_type": "execute_result"
    }
   ],
   "source": [
    "a.dtype"
   ]
  },
  {
   "cell_type": "code",
   "execution_count": 5,
   "metadata": {},
   "outputs": [
    {
     "data": {
      "text/plain": [
       "array([1, 2, 3, 4], dtype=float32)"
      ]
     },
     "execution_count": 5,
     "metadata": {},
     "output_type": "execute_result"
    }
   ],
   "source": [
    "b"
   ]
  },
  {
   "cell_type": "code",
   "execution_count": 1,
   "metadata": {},
   "outputs": [
    {
     "name": "stdout",
     "output_type": "stream",
     "text": [
      "Collecting mlx-lm\n",
      "  Downloading mlx_lm-0.19.2-py3-none-any.whl.metadata (8.1 kB)\n",
      "Collecting mlx>=0.17.0 (from mlx-lm)\n",
      "  Downloading mlx-0.19.3-cp312-cp312-macosx_14_0_arm64.whl.metadata (5.1 kB)\n",
      "Requirement already satisfied: numpy in /Users/farshid/projects/install/miniconda3/envs/farshid/lib/python3.12/site-packages (from mlx-lm) (1.26.4)\n",
      "Requirement already satisfied: transformers>=4.39.3 in /Users/farshid/projects/install/miniconda3/envs/farshid/lib/python3.12/site-packages (from transformers[sentencepiece]>=4.39.3->mlx-lm) (4.44.0)\n",
      "Requirement already satisfied: protobuf in /Users/farshid/projects/install/miniconda3/envs/farshid/lib/python3.12/site-packages (from mlx-lm) (4.25.3)\n",
      "Requirement already satisfied: pyyaml in /Users/farshid/projects/install/miniconda3/envs/farshid/lib/python3.12/site-packages (from mlx-lm) (6.0.2)\n",
      "Requirement already satisfied: jinja2 in /Users/farshid/projects/install/miniconda3/envs/farshid/lib/python3.12/site-packages (from mlx-lm) (3.1.4)\n",
      "Requirement already satisfied: filelock in /Users/farshid/projects/install/miniconda3/envs/farshid/lib/python3.12/site-packages (from transformers>=4.39.3->transformers[sentencepiece]>=4.39.3->mlx-lm) (3.15.4)\n",
      "Requirement already satisfied: huggingface-hub<1.0,>=0.23.2 in /Users/farshid/projects/install/miniconda3/envs/farshid/lib/python3.12/site-packages (from transformers>=4.39.3->transformers[sentencepiece]>=4.39.3->mlx-lm) (0.24.6)\n",
      "Requirement already satisfied: packaging>=20.0 in /Users/farshid/projects/install/miniconda3/envs/farshid/lib/python3.12/site-packages (from transformers>=4.39.3->transformers[sentencepiece]>=4.39.3->mlx-lm) (24.1)\n",
      "Requirement already satisfied: regex!=2019.12.17 in /Users/farshid/projects/install/miniconda3/envs/farshid/lib/python3.12/site-packages (from transformers>=4.39.3->transformers[sentencepiece]>=4.39.3->mlx-lm) (2024.7.24)\n",
      "Requirement already satisfied: requests in /Users/farshid/projects/install/miniconda3/envs/farshid/lib/python3.12/site-packages (from transformers>=4.39.3->transformers[sentencepiece]>=4.39.3->mlx-lm) (2.32.3)\n",
      "Requirement already satisfied: safetensors>=0.4.1 in /Users/farshid/projects/install/miniconda3/envs/farshid/lib/python3.12/site-packages (from transformers>=4.39.3->transformers[sentencepiece]>=4.39.3->mlx-lm) (0.4.4)\n",
      "Requirement already satisfied: tokenizers<0.20,>=0.19 in /Users/farshid/projects/install/miniconda3/envs/farshid/lib/python3.12/site-packages (from transformers>=4.39.3->transformers[sentencepiece]>=4.39.3->mlx-lm) (0.19.1)\n",
      "Requirement already satisfied: tqdm>=4.27 in /Users/farshid/projects/install/miniconda3/envs/farshid/lib/python3.12/site-packages (from transformers>=4.39.3->transformers[sentencepiece]>=4.39.3->mlx-lm) (4.66.5)\n",
      "Requirement already satisfied: sentencepiece!=0.1.92,>=0.1.91 in /Users/farshid/projects/install/miniconda3/envs/farshid/lib/python3.12/site-packages (from transformers[sentencepiece]>=4.39.3->mlx-lm) (0.2.0)\n",
      "Requirement already satisfied: MarkupSafe>=2.0 in /Users/farshid/projects/install/miniconda3/envs/farshid/lib/python3.12/site-packages (from jinja2->mlx-lm) (2.1.5)\n",
      "Requirement already satisfied: fsspec>=2023.5.0 in /Users/farshid/projects/install/miniconda3/envs/farshid/lib/python3.12/site-packages (from huggingface-hub<1.0,>=0.23.2->transformers>=4.39.3->transformers[sentencepiece]>=4.39.3->mlx-lm) (2024.6.1)\n",
      "Requirement already satisfied: typing-extensions>=3.7.4.3 in /Users/farshid/projects/install/miniconda3/envs/farshid/lib/python3.12/site-packages (from huggingface-hub<1.0,>=0.23.2->transformers>=4.39.3->transformers[sentencepiece]>=4.39.3->mlx-lm) (4.12.2)\n",
      "Requirement already satisfied: charset-normalizer<4,>=2 in /Users/farshid/projects/install/miniconda3/envs/farshid/lib/python3.12/site-packages (from requests->transformers>=4.39.3->transformers[sentencepiece]>=4.39.3->mlx-lm) (3.3.2)\n",
      "Requirement already satisfied: idna<4,>=2.5 in /Users/farshid/projects/install/miniconda3/envs/farshid/lib/python3.12/site-packages (from requests->transformers>=4.39.3->transformers[sentencepiece]>=4.39.3->mlx-lm) (3.8)\n",
      "Requirement already satisfied: urllib3<3,>=1.21.1 in /Users/farshid/projects/install/miniconda3/envs/farshid/lib/python3.12/site-packages (from requests->transformers>=4.39.3->transformers[sentencepiece]>=4.39.3->mlx-lm) (2.2.2)\n",
      "Requirement already satisfied: certifi>=2017.4.17 in /Users/farshid/projects/install/miniconda3/envs/farshid/lib/python3.12/site-packages (from requests->transformers>=4.39.3->transformers[sentencepiece]>=4.39.3->mlx-lm) (2024.8.30)\n",
      "Downloading mlx_lm-0.19.2-py3-none-any.whl (115 kB)\n",
      "Downloading mlx-0.19.3-cp312-cp312-macosx_14_0_arm64.whl (23.5 MB)\n",
      "\u001b[2K   \u001b[90m━━━━━━━━━━━━━━━━━━━━━━━━━━━━━━━━━━━━━━━━\u001b[0m \u001b[32m23.5/23.5 MB\u001b[0m \u001b[31m793.7 kB/s\u001b[0m eta \u001b[36m0:00:00\u001b[0m00:01\u001b[0m00:01\u001b[0m\n",
      "\u001b[?25hInstalling collected packages: mlx, mlx-lm\n",
      "  Attempting uninstall: mlx\n",
      "    Found existing installation: mlx 0.16.1\n",
      "    Uninstalling mlx-0.16.1:\n",
      "      Successfully uninstalled mlx-0.16.1\n",
      "Successfully installed mlx-0.19.3 mlx-lm-0.19.2\n",
      "\n",
      "\u001b[1m[\u001b[0m\u001b[34;49mnotice\u001b[0m\u001b[1;39;49m]\u001b[0m\u001b[39;49m A new release of pip is available: \u001b[0m\u001b[31;49m24.2\u001b[0m\u001b[39;49m -> \u001b[0m\u001b[32;49m24.3.1\u001b[0m\n",
      "\u001b[1m[\u001b[0m\u001b[34;49mnotice\u001b[0m\u001b[1;39;49m]\u001b[0m\u001b[39;49m To update, run: \u001b[0m\u001b[32;49mpip install --upgrade pip\u001b[0m\n"
     ]
    }
   ],
   "source": [
    "# https://www.youtube.com/watch?v=mStqWk0aCc4\n",
    "# Apple MLX: Build Your Own Private AI Server\n",
    "# \n",
    "!pip install mlx-lm\n",
    "!python -m mlx_lm.server --model mlx-community/Meta-Llama-3-8B-Instruct-4bit\n"
   ]
  },
  {
   "cell_type": "code",
   "execution_count": null,
   "metadata": {},
   "outputs": [
    {
     "name": "stdout",
     "output_type": "stream",
     "text": [
      "/Users/farshid/projects/install/miniconda3/envs/farshid/lib/python3.12/site-packages/mlx_lm/server.py:741: UserWarning: mlx_lm.server is not recommended for production as it only implements basic security checks.\n",
      "  warnings.warn(\n",
      "2024-11-03 23:06:44,052 - INFO - Starting httpd at 127.0.0.1 on port 8080...\n",
      "127.0.0.1 - - [03/Nov/2024 23:08:15] \"GET / HTTP/1.1\" 404 -\n",
      "127.0.0.1 - - [03/Nov/2024 23:08:15] \"GET /apple-touch-icon-precomposed.png HTTP/1.1\" 404 -\n",
      "127.0.0.1 - - [03/Nov/2024 23:08:15] \"GET /apple-touch-icon.png HTTP/1.1\" 404 -\n",
      "127.0.0.1 - - [03/Nov/2024 23:08:15] \"GET /favicon.ico HTTP/1.1\" 404 -\n",
      "^C\n",
      "Traceback (most recent call last):\n",
      "  File \"<frozen runpy>\", line 198, in _run_module_as_main\n",
      "  File \"<frozen runpy>\", line 88, in _run_code\n",
      "  File \"/Users/farshid/projects/install/miniconda3/envs/farshid/lib/python3.12/site-packages/mlx_lm/server.py\", line 819, in <module>\n",
      "    main()\n",
      "  File \"/Users/farshid/projects/install/miniconda3/envs/farshid/lib/python3.12/site-packages/mlx_lm/server.py\", line 815, in main\n",
      "    run(args.host, args.port, ModelProvider(args))\n",
      "  File \"/Users/farshid/projects/install/miniconda3/envs/farshid/lib/python3.12/site-packages/mlx_lm/server.py\", line 746, in run\n",
      "    httpd.serve_forever()\n",
      "  File \"/Users/farshid/projects/install/miniconda3/envs/farshid/lib/python3.12/socketserver.py\", line 235, in serve_forever\n",
      "    ready = selector.select(poll_interval)\n",
      "            ^^^^^^^^^^^^^^^^^^^^^^^^^^^^^^\n",
      "  File \"/Users/farshid/projects/install/miniconda3/envs/farshid/lib/python3.12/selectors.py\", line 415, in select\n",
      "    fd_event_list = self._selector.poll(timeout)\n",
      "                    ^^^^^^^^^^^^^^^^^^^^^^^^^^^^\n",
      "KeyboardInterrupt\n"
     ]
    }
   ],
   "source": []
  },
  {
   "cell_type": "code",
   "execution_count": 3,
   "metadata": {},
   "outputs": [
    {
     "name": "stdout",
     "output_type": "stream",
     "text": [
      "Fetching 6 files:   0%|                                   | 0/6 [00:00<?, ?it/s]\n",
      "tokenizer_config.json:   0%|                        | 0.00/50.9k [00:00<?, ?B/s]\u001b[A\n",
      "\n",
      "tokenizer.json:   0%|                               | 0.00/9.08M [00:00<?, ?B/s]\u001b[A\u001b[A\n",
      "\n",
      "\n",
      "model.safetensors.index.json:   0%|                 | 0.00/52.3k [00:00<?, ?B/s]\u001b[A\u001b[A\u001b[A\n",
      "\n",
      "\n",
      "\n",
      "special_tokens_map.json: 100%|█████████████████| 296/296 [00:00<00:00, 2.62MB/s]\u001b[A\u001b[A\u001b[A\u001b[A\n",
      "\n",
      "\n",
      "\n",
      "\n",
      "config.json: 100%|█████████████████████████| 2.25k/2.25k [00:00<00:00, 19.7MB/s]\u001b[A\u001b[A\u001b[A\u001b[A\n",
      "Fetching 6 files:  17%|████▌                      | 1/6 [00:00<00:02,  1.68it/s]\n",
      "tokenizer_config.json: 100%|████████████████| 50.9k/50.9k [00:00<00:00, 229kB/s]\u001b[A\n",
      "\n",
      "\n",
      "\n",
      "model.safetensors.index.json: 100%|█████████| 52.3k/52.3k [00:00<00:00, 256kB/s]\u001b[A\u001b[A\u001b[A\n",
      "\n",
      "model.safetensors:   0%|                            | 0.00/5.27G [00:00<?, ?B/s]\u001b[A\n",
      "model.safetensors:   0%|                  | 10.5M/5.27G [00:22<3:07:57, 467kB/s]\u001b[A\n",
      "\n",
      "tokenizer.json: 100%|███████████████████████| 9.08M/9.08M [00:29<00:00, 308kB/s]\u001b[A\u001b[A\n",
      "\n",
      "model.safetensors:   0%|                  | 21.0M/5.27G [00:36<2:25:57, 600kB/s]\u001b[A\n",
      "model.safetensors:   0%|                  | 21.0M/5.27G [00:48<2:25:57, 600kB/s]\u001b[A\n",
      "model.safetensors:   1%|                  | 31.5M/5.27G [00:51<2:15:24, 645kB/s]\u001b[A\n",
      "model.safetensors:   1%|                  | 31.5M/5.27G [01:08<2:15:24, 645kB/s]\u001b[A\n",
      "model.safetensors:   1%|▏                 | 41.9M/5.27G [01:10<2:26:01, 597kB/s]\u001b[A^C\n",
      "Fetching 6 files:  17%|████▌                      | 1/6 [01:29<07:25, 89.07s/it]\n"
     ]
    }
   ],
   "source": [
    "!python -m mlx_lm.server --model mlx-community/Meta-Llama-3-8B-Instruct-4bit"
   ]
  },
  {
   "cell_type": "code",
   "execution_count": 4,
   "metadata": {},
   "outputs": [
    {
     "name": "stdout",
     "output_type": "stream",
     "text": [
      "Collecting chainlit\n",
      "  Downloading chainlit-1.3.1-py3-none-any.whl.metadata (6.8 kB)\n",
      "Requirement already satisfied: aiofiles<24.0.0,>=23.1.0 in /Users/farshid/projects/install/miniconda3/envs/farshid/lib/python3.12/site-packages (from chainlit) (23.2.1)\n",
      "Collecting asyncer<0.0.8,>=0.0.7 (from chainlit)\n",
      "  Downloading asyncer-0.0.7-py3-none-any.whl.metadata (6.6 kB)\n",
      "Requirement already satisfied: click<9.0.0,>=8.1.3 in /Users/farshid/projects/install/miniconda3/envs/farshid/lib/python3.12/site-packages (from chainlit) (8.1.7)\n",
      "Requirement already satisfied: dataclasses_json<0.7.0,>=0.6.7 in /Users/farshid/projects/install/miniconda3/envs/farshid/lib/python3.12/site-packages (from chainlit) (0.6.7)\n",
      "Collecting fastapi<0.113,>=0.110.1 (from chainlit)\n",
      "  Downloading fastapi-0.112.4-py3-none-any.whl.metadata (27 kB)\n",
      "Collecting filetype<2.0.0,>=1.2.0 (from chainlit)\n",
      "  Downloading filetype-1.2.0-py2.py3-none-any.whl.metadata (6.5 kB)\n",
      "Requirement already satisfied: httpx>=0.23.0 in /Users/farshid/projects/install/miniconda3/envs/farshid/lib/python3.12/site-packages (from chainlit) (0.27.0)\n",
      "Collecting lazify<0.5.0,>=0.4.0 (from chainlit)\n",
      "  Downloading Lazify-0.4.0-py2.py3-none-any.whl.metadata (1.4 kB)\n",
      "Collecting literalai==0.0.623 (from chainlit)\n",
      "  Downloading literalai-0.0.623.tar.gz (57 kB)\n",
      "  Preparing metadata (setup.py) ... \u001b[?25ldone\n",
      "\u001b[?25hRequirement already satisfied: nest-asyncio<2.0.0,>=1.6.0 in /Users/farshid/projects/install/miniconda3/envs/farshid/lib/python3.12/site-packages (from chainlit) (1.6.0)\n",
      "Requirement already satisfied: numpy<2.0,>=1.26 in /Users/farshid/projects/install/miniconda3/envs/farshid/lib/python3.12/site-packages (from chainlit) (1.26.4)\n",
      "Collecting packaging<24.0,>=23.1 (from chainlit)\n",
      "  Downloading packaging-23.2-py3-none-any.whl.metadata (3.2 kB)\n",
      "Requirement already satisfied: pydantic<3,>=1 in /Users/farshid/projects/install/miniconda3/envs/farshid/lib/python3.12/site-packages (from chainlit) (2.8.2)\n",
      "Collecting pyjwt<3.0.0,>=2.8.0 (from chainlit)\n",
      "  Downloading PyJWT-2.9.0-py3-none-any.whl.metadata (3.0 kB)\n",
      "Requirement already satisfied: python-dotenv<2.0.0,>=1.0.0 in /Users/farshid/projects/install/miniconda3/envs/farshid/lib/python3.12/site-packages (from chainlit) (1.0.1)\n",
      "Collecting python-multipart<0.0.10,>=0.0.9 (from chainlit)\n",
      "  Downloading python_multipart-0.0.9-py3-none-any.whl.metadata (2.5 kB)\n",
      "Collecting python-socketio<6.0.0,>=5.11.0 (from chainlit)\n",
      "  Downloading python_socketio-5.11.4-py3-none-any.whl.metadata (3.2 kB)\n",
      "Collecting starlette<0.38.0,>=0.37.2 (from chainlit)\n",
      "  Downloading starlette-0.37.2-py3-none-any.whl.metadata (5.9 kB)\n",
      "Collecting syncer<3.0.0,>=2.0.3 (from chainlit)\n",
      "  Downloading syncer-2.0.3.tar.gz (11 kB)\n",
      "  Preparing metadata (setup.py) ... \u001b[?25ldone\n",
      "\u001b[?25hCollecting tomli<3.0.0,>=2.0.1 (from chainlit)\n",
      "  Downloading tomli-2.0.2-py3-none-any.whl.metadata (10.0 kB)\n",
      "Collecting uptrace<2.0.0,>=1.22.0 (from chainlit)\n",
      "  Downloading uptrace-1.27.0-py3-none-any.whl.metadata (2.3 kB)\n",
      "Collecting uvicorn<0.26.0,>=0.25.0 (from chainlit)\n",
      "  Downloading uvicorn-0.25.0-py3-none-any.whl.metadata (6.4 kB)\n",
      "Collecting watchfiles<0.21.0,>=0.20.0 (from chainlit)\n",
      "  Downloading watchfiles-0.20.0-cp37-abi3-macosx_11_0_arm64.whl.metadata (4.9 kB)\n",
      "Collecting chevron>=0.14.0 (from literalai==0.0.623->chainlit)\n",
      "  Downloading chevron-0.14.0-py3-none-any.whl.metadata (4.9 kB)\n",
      "Requirement already satisfied: anyio<5.0,>=3.4.0 in /Users/farshid/projects/install/miniconda3/envs/farshid/lib/python3.12/site-packages (from asyncer<0.0.8,>=0.0.7->chainlit) (4.4.0)\n",
      "Requirement already satisfied: marshmallow<4.0.0,>=3.18.0 in /Users/farshid/projects/install/miniconda3/envs/farshid/lib/python3.12/site-packages (from dataclasses_json<0.7.0,>=0.6.7->chainlit) (3.22.0)\n",
      "Requirement already satisfied: typing-inspect<1,>=0.4.0 in /Users/farshid/projects/install/miniconda3/envs/farshid/lib/python3.12/site-packages (from dataclasses_json<0.7.0,>=0.6.7->chainlit) (0.9.0)\n",
      "Requirement already satisfied: typing-extensions>=4.8.0 in /Users/farshid/projects/install/miniconda3/envs/farshid/lib/python3.12/site-packages (from fastapi<0.113,>=0.110.1->chainlit) (4.12.2)\n",
      "Requirement already satisfied: certifi in /Users/farshid/projects/install/miniconda3/envs/farshid/lib/python3.12/site-packages (from httpx>=0.23.0->chainlit) (2024.8.30)\n",
      "Requirement already satisfied: httpcore==1.* in /Users/farshid/projects/install/miniconda3/envs/farshid/lib/python3.12/site-packages (from httpx>=0.23.0->chainlit) (1.0.5)\n",
      "Requirement already satisfied: idna in /Users/farshid/projects/install/miniconda3/envs/farshid/lib/python3.12/site-packages (from httpx>=0.23.0->chainlit) (3.8)\n",
      "Requirement already satisfied: sniffio in /Users/farshid/projects/install/miniconda3/envs/farshid/lib/python3.12/site-packages (from httpx>=0.23.0->chainlit) (1.3.1)\n",
      "Requirement already satisfied: h11<0.15,>=0.13 in /Users/farshid/projects/install/miniconda3/envs/farshid/lib/python3.12/site-packages (from httpcore==1.*->httpx>=0.23.0->chainlit) (0.14.0)\n",
      "Requirement already satisfied: annotated-types>=0.4.0 in /Users/farshid/projects/install/miniconda3/envs/farshid/lib/python3.12/site-packages (from pydantic<3,>=1->chainlit) (0.7.0)\n",
      "Requirement already satisfied: pydantic-core==2.20.1 in /Users/farshid/projects/install/miniconda3/envs/farshid/lib/python3.12/site-packages (from pydantic<3,>=1->chainlit) (2.20.1)\n",
      "Collecting bidict>=0.21.0 (from python-socketio<6.0.0,>=5.11.0->chainlit)\n",
      "  Downloading bidict-0.23.1-py3-none-any.whl.metadata (8.7 kB)\n",
      "Collecting python-engineio>=4.8.0 (from python-socketio<6.0.0,>=5.11.0->chainlit)\n",
      "  Downloading python_engineio-4.10.1-py3-none-any.whl.metadata (2.2 kB)\n",
      "Collecting opentelemetry-api~=1.27 (from uptrace<2.0.0,>=1.22.0->chainlit)\n",
      "  Downloading opentelemetry_api-1.27.0-py3-none-any.whl.metadata (1.4 kB)\n",
      "Collecting opentelemetry-exporter-otlp~=1.27 (from uptrace<2.0.0,>=1.22.0->chainlit)\n",
      "  Downloading opentelemetry_exporter_otlp-1.27.0-py3-none-any.whl.metadata (2.3 kB)\n",
      "Collecting opentelemetry-instrumentation~=0.48b0 (from uptrace<2.0.0,>=1.22.0->chainlit)\n",
      "  Downloading opentelemetry_instrumentation-0.48b0-py3-none-any.whl.metadata (6.1 kB)\n",
      "Collecting opentelemetry-sdk~=1.27 (from uptrace<2.0.0,>=1.22.0->chainlit)\n",
      "  Downloading opentelemetry_sdk-1.27.0-py3-none-any.whl.metadata (1.5 kB)\n",
      "Collecting deprecated>=1.2.6 (from opentelemetry-api~=1.27->uptrace<2.0.0,>=1.22.0->chainlit)\n",
      "  Downloading Deprecated-1.2.14-py2.py3-none-any.whl.metadata (5.4 kB)\n",
      "Requirement already satisfied: importlib-metadata<=8.4.0,>=6.0 in /Users/farshid/projects/install/miniconda3/envs/farshid/lib/python3.12/site-packages (from opentelemetry-api~=1.27->uptrace<2.0.0,>=1.22.0->chainlit) (8.4.0)\n",
      "Collecting opentelemetry-exporter-otlp-proto-grpc==1.27.0 (from opentelemetry-exporter-otlp~=1.27->uptrace<2.0.0,>=1.22.0->chainlit)\n",
      "  Downloading opentelemetry_exporter_otlp_proto_grpc-1.27.0-py3-none-any.whl.metadata (2.3 kB)\n",
      "Collecting opentelemetry-exporter-otlp-proto-http==1.27.0 (from opentelemetry-exporter-otlp~=1.27->uptrace<2.0.0,>=1.22.0->chainlit)\n",
      "  Downloading opentelemetry_exporter_otlp_proto_http-1.27.0-py3-none-any.whl.metadata (2.3 kB)\n",
      "Collecting googleapis-common-protos~=1.52 (from opentelemetry-exporter-otlp-proto-grpc==1.27.0->opentelemetry-exporter-otlp~=1.27->uptrace<2.0.0,>=1.22.0->chainlit)\n",
      "  Downloading googleapis_common_protos-1.65.0-py2.py3-none-any.whl.metadata (1.5 kB)\n",
      "Requirement already satisfied: grpcio<2.0.0,>=1.0.0 in /Users/farshid/projects/install/miniconda3/envs/farshid/lib/python3.12/site-packages (from opentelemetry-exporter-otlp-proto-grpc==1.27.0->opentelemetry-exporter-otlp~=1.27->uptrace<2.0.0,>=1.22.0->chainlit) (1.66.1)\n",
      "Collecting opentelemetry-exporter-otlp-proto-common==1.27.0 (from opentelemetry-exporter-otlp-proto-grpc==1.27.0->opentelemetry-exporter-otlp~=1.27->uptrace<2.0.0,>=1.22.0->chainlit)\n",
      "  Downloading opentelemetry_exporter_otlp_proto_common-1.27.0-py3-none-any.whl.metadata (1.8 kB)\n",
      "Collecting opentelemetry-proto==1.27.0 (from opentelemetry-exporter-otlp-proto-grpc==1.27.0->opentelemetry-exporter-otlp~=1.27->uptrace<2.0.0,>=1.22.0->chainlit)\n",
      "  Downloading opentelemetry_proto-1.27.0-py3-none-any.whl.metadata (2.3 kB)\n",
      "Requirement already satisfied: requests~=2.7 in /Users/farshid/projects/install/miniconda3/envs/farshid/lib/python3.12/site-packages (from opentelemetry-exporter-otlp-proto-http==1.27.0->opentelemetry-exporter-otlp~=1.27->uptrace<2.0.0,>=1.22.0->chainlit) (2.32.3)\n",
      "Requirement already satisfied: protobuf<5.0,>=3.19 in /Users/farshid/projects/install/miniconda3/envs/farshid/lib/python3.12/site-packages (from opentelemetry-proto==1.27.0->opentelemetry-exporter-otlp-proto-grpc==1.27.0->opentelemetry-exporter-otlp~=1.27->uptrace<2.0.0,>=1.22.0->chainlit) (4.25.3)\n",
      "Requirement already satisfied: setuptools>=16.0 in /Users/farshid/projects/install/miniconda3/envs/farshid/lib/python3.12/site-packages (from opentelemetry-instrumentation~=0.48b0->uptrace<2.0.0,>=1.22.0->chainlit) (74.0.0)\n",
      "Collecting wrapt<2.0.0,>=1.0.0 (from opentelemetry-instrumentation~=0.48b0->uptrace<2.0.0,>=1.22.0->chainlit)\n",
      "  Downloading wrapt-1.16.0-cp312-cp312-macosx_11_0_arm64.whl.metadata (6.6 kB)\n",
      "Collecting opentelemetry-semantic-conventions==0.48b0 (from opentelemetry-sdk~=1.27->uptrace<2.0.0,>=1.22.0->chainlit)\n",
      "  Downloading opentelemetry_semantic_conventions-0.48b0-py3-none-any.whl.metadata (2.4 kB)\n",
      "Collecting simple-websocket>=0.10.0 (from python-engineio>=4.8.0->python-socketio<6.0.0,>=5.11.0->chainlit)\n",
      "  Downloading simple_websocket-1.1.0-py3-none-any.whl.metadata (1.5 kB)\n",
      "Requirement already satisfied: mypy-extensions>=0.3.0 in /Users/farshid/projects/install/miniconda3/envs/farshid/lib/python3.12/site-packages (from typing-inspect<1,>=0.4.0->dataclasses_json<0.7.0,>=0.6.7->chainlit) (1.0.0)\n",
      "Requirement already satisfied: zipp>=0.5 in /Users/farshid/projects/install/miniconda3/envs/farshid/lib/python3.12/site-packages (from importlib-metadata<=8.4.0,>=6.0->opentelemetry-api~=1.27->uptrace<2.0.0,>=1.22.0->chainlit) (3.20.0)\n",
      "Requirement already satisfied: wsproto in /Users/farshid/projects/install/miniconda3/envs/farshid/lib/python3.12/site-packages (from simple-websocket>=0.10.0->python-engineio>=4.8.0->python-socketio<6.0.0,>=5.11.0->chainlit) (1.2.0)\n",
      "Requirement already satisfied: charset-normalizer<4,>=2 in /Users/farshid/projects/install/miniconda3/envs/farshid/lib/python3.12/site-packages (from requests~=2.7->opentelemetry-exporter-otlp-proto-http==1.27.0->opentelemetry-exporter-otlp~=1.27->uptrace<2.0.0,>=1.22.0->chainlit) (3.3.2)\n",
      "Requirement already satisfied: urllib3<3,>=1.21.1 in /Users/farshid/projects/install/miniconda3/envs/farshid/lib/python3.12/site-packages (from requests~=2.7->opentelemetry-exporter-otlp-proto-http==1.27.0->opentelemetry-exporter-otlp~=1.27->uptrace<2.0.0,>=1.22.0->chainlit) (2.2.2)\n",
      "Downloading chainlit-1.3.1-py3-none-any.whl (4.3 MB)\n",
      "\u001b[2K   \u001b[90m━━━━━━━━━━━━━━━━━━━━━━━━━━━━━━━━━━━━━━━━\u001b[0m \u001b[32m4.3/4.3 MB\u001b[0m \u001b[31m804.9 kB/s\u001b[0m eta \u001b[36m0:00:00\u001b[0ma \u001b[36m0:00:01\u001b[0m\n",
      "\u001b[?25hDownloading asyncer-0.0.7-py3-none-any.whl (8.5 kB)\n",
      "Downloading fastapi-0.112.4-py3-none-any.whl (93 kB)\n",
      "Downloading filetype-1.2.0-py2.py3-none-any.whl (19 kB)\n",
      "Downloading Lazify-0.4.0-py2.py3-none-any.whl (3.1 kB)\n",
      "Downloading packaging-23.2-py3-none-any.whl (53 kB)\n",
      "Downloading PyJWT-2.9.0-py3-none-any.whl (22 kB)\n",
      "Downloading python_multipart-0.0.9-py3-none-any.whl (22 kB)\n",
      "Downloading python_socketio-5.11.4-py3-none-any.whl (76 kB)\n",
      "Downloading starlette-0.37.2-py3-none-any.whl (71 kB)\n",
      "Downloading tomli-2.0.2-py3-none-any.whl (13 kB)\n",
      "Downloading uptrace-1.27.0-py3-none-any.whl (8.6 kB)\n",
      "Downloading uvicorn-0.25.0-py3-none-any.whl (60 kB)\n",
      "Downloading watchfiles-0.20.0-cp37-abi3-macosx_11_0_arm64.whl (407 kB)\n",
      "Downloading bidict-0.23.1-py3-none-any.whl (32 kB)\n",
      "Downloading chevron-0.14.0-py3-none-any.whl (11 kB)\n",
      "Downloading opentelemetry_api-1.27.0-py3-none-any.whl (63 kB)\n",
      "Downloading opentelemetry_exporter_otlp-1.27.0-py3-none-any.whl (7.0 kB)\n",
      "Downloading opentelemetry_exporter_otlp_proto_grpc-1.27.0-py3-none-any.whl (18 kB)\n",
      "Downloading opentelemetry_exporter_otlp_proto_http-1.27.0-py3-none-any.whl (17 kB)\n",
      "Downloading opentelemetry_exporter_otlp_proto_common-1.27.0-py3-none-any.whl (17 kB)\n",
      "Downloading opentelemetry_proto-1.27.0-py3-none-any.whl (52 kB)\n",
      "Downloading opentelemetry_instrumentation-0.48b0-py3-none-any.whl (29 kB)\n",
      "Downloading opentelemetry_sdk-1.27.0-py3-none-any.whl (110 kB)\n",
      "Downloading opentelemetry_semantic_conventions-0.48b0-py3-none-any.whl (149 kB)\n",
      "Downloading python_engineio-4.10.1-py3-none-any.whl (57 kB)\n",
      "Downloading Deprecated-1.2.14-py2.py3-none-any.whl (9.6 kB)\n",
      "Downloading simple_websocket-1.1.0-py3-none-any.whl (13 kB)\n",
      "Downloading wrapt-1.16.0-cp312-cp312-macosx_11_0_arm64.whl (38 kB)\n",
      "Downloading googleapis_common_protos-1.65.0-py2.py3-none-any.whl (220 kB)\n",
      "Building wheels for collected packages: literalai, syncer\n",
      "  Building wheel for literalai (setup.py) ... \u001b[?25ldone\n",
      "\u001b[?25h  Created wheel for literalai: filename=literalai-0.0.623-py3-none-any.whl size=73991 sha256=83ab33b40a0c8ac0bdee79e155ec63d80fe64f746d716305cc93d666bb432ab0\n",
      "  Stored in directory: /Users/farshid/Library/Caches/pip/wheels/b0/e8/aa/b36491b033a8c3685b8424ed9bf4b183df402ed868c2f8b0d9\n",
      "  Building wheel for syncer (setup.py) ... \u001b[?25ldone\n",
      "\u001b[?25h  Created wheel for syncer: filename=syncer-2.0.3-py2.py3-none-any.whl size=3437 sha256=a0d3c1b5f7a9b1bade4ac312389f3f6f262ae83ce27d9802f3aeedac4f18d0bb\n",
      "  Stored in directory: /Users/farshid/Library/Caches/pip/wheels/9f/d9/17/203397abf217c535e6725b8d9e0cd99e8c5ccb24c0bcb51997\n",
      "Successfully built literalai syncer\n",
      "Installing collected packages: syncer, lazify, filetype, chevron, wrapt, uvicorn, tomli, python-multipart, pyjwt, packaging, opentelemetry-proto, googleapis-common-protos, bidict, watchfiles, starlette, simple-websocket, opentelemetry-exporter-otlp-proto-common, deprecated, asyncer, python-engineio, opentelemetry-api, literalai, fastapi, python-socketio, opentelemetry-semantic-conventions, opentelemetry-instrumentation, opentelemetry-sdk, opentelemetry-exporter-otlp-proto-http, opentelemetry-exporter-otlp-proto-grpc, opentelemetry-exporter-otlp, uptrace, chainlit\n",
      "  Attempting uninstall: packaging\n",
      "    Found existing installation: packaging 24.1\n",
      "    Uninstalling packaging-24.1:\n",
      "      Successfully uninstalled packaging-24.1\n",
      "\u001b[31mERROR: pip's dependency resolver does not currently take into account all the packages that are installed. This behaviour is the source of the following dependency conflicts.\n",
      "coremltools 7.2 requires protobuf<=4.0.0,>=3.1.0, but you have protobuf 4.25.3 which is incompatible.\u001b[0m\u001b[31m\n",
      "\u001b[0mSuccessfully installed asyncer-0.0.7 bidict-0.23.1 chainlit-1.3.1 chevron-0.14.0 deprecated-1.2.14 fastapi-0.112.4 filetype-1.2.0 googleapis-common-protos-1.65.0 lazify-0.4.0 literalai-0.0.623 opentelemetry-api-1.27.0 opentelemetry-exporter-otlp-1.27.0 opentelemetry-exporter-otlp-proto-common-1.27.0 opentelemetry-exporter-otlp-proto-grpc-1.27.0 opentelemetry-exporter-otlp-proto-http-1.27.0 opentelemetry-instrumentation-0.48b0 opentelemetry-proto-1.27.0 opentelemetry-sdk-1.27.0 opentelemetry-semantic-conventions-0.48b0 packaging-23.2 pyjwt-2.9.0 python-engineio-4.10.1 python-multipart-0.0.9 python-socketio-5.11.4 simple-websocket-1.1.0 starlette-0.37.2 syncer-2.0.3 tomli-2.0.2 uptrace-1.27.0 uvicorn-0.25.0 watchfiles-0.20.0 wrapt-1.16.0\n",
      "\n",
      "\u001b[1m[\u001b[0m\u001b[34;49mnotice\u001b[0m\u001b[1;39;49m]\u001b[0m\u001b[39;49m A new release of pip is available: \u001b[0m\u001b[31;49m24.2\u001b[0m\u001b[39;49m -> \u001b[0m\u001b[32;49m24.3.1\u001b[0m\n",
      "\u001b[1m[\u001b[0m\u001b[34;49mnotice\u001b[0m\u001b[1;39;49m]\u001b[0m\u001b[39;49m To update, run: \u001b[0m\u001b[32;49mpip install --upgrade pip\u001b[0m\n"
     ]
    }
   ],
   "source": [
    "!pip install chainlit\n"
   ]
  },
  {
   "cell_type": "code",
   "execution_count": 5,
   "metadata": {},
   "outputs": [
    {
     "name": "stdout",
     "output_type": "stream",
     "text": [
      "2024-11-03 23:12:26 - Created default config file at /Users/farshid/projects/mycodes/myWebsite/farshid/guides/src/.chainlit/config.toml\n",
      "2024-11-03 23:12:26 - Created default translation directory at /Users/farshid/projects/mycodes/myWebsite/farshid/guides/src/.chainlit/translations\n",
      "2024-11-03 23:12:26 - Created default translation file at /Users/farshid/projects/mycodes/myWebsite/farshid/guides/src/.chainlit/translations/mr.json\n",
      "2024-11-03 23:12:26 - Created default translation file at /Users/farshid/projects/mycodes/myWebsite/farshid/guides/src/.chainlit/translations/bn.json\n",
      "2024-11-03 23:12:26 - Created default translation file at /Users/farshid/projects/mycodes/myWebsite/farshid/guides/src/.chainlit/translations/ta.json\n",
      "2024-11-03 23:12:26 - Created default translation file at /Users/farshid/projects/mycodes/myWebsite/farshid/guides/src/.chainlit/translations/zh-CN.json\n",
      "2024-11-03 23:12:26 - Created default translation file at /Users/farshid/projects/mycodes/myWebsite/farshid/guides/src/.chainlit/translations/ml.json\n",
      "2024-11-03 23:12:26 - Created default translation file at /Users/farshid/projects/mycodes/myWebsite/farshid/guides/src/.chainlit/translations/kn.json\n",
      "2024-11-03 23:12:26 - Created default translation file at /Users/farshid/projects/mycodes/myWebsite/farshid/guides/src/.chainlit/translations/gu.json\n",
      "2024-11-03 23:12:26 - Created default translation file at /Users/farshid/projects/mycodes/myWebsite/farshid/guides/src/.chainlit/translations/hi.json\n",
      "2024-11-03 23:12:26 - Created default translation file at /Users/farshid/projects/mycodes/myWebsite/farshid/guides/src/.chainlit/translations/te.json\n",
      "2024-11-03 23:12:26 - Created default translation file at /Users/farshid/projects/mycodes/myWebsite/farshid/guides/src/.chainlit/translations/he-IL.json\n",
      "2024-11-03 23:12:26 - Created default translation file at /Users/farshid/projects/mycodes/myWebsite/farshid/guides/src/.chainlit/translations/en-US.json\n"
     ]
    },
    {
     "ename": "ImportError",
     "evalue": "cannot import name 'descriptor' from 'google.protobuf' (unknown location)",
     "output_type": "error",
     "traceback": [
      "\u001b[0;31m---------------------------------------------------------------------------\u001b[0m",
      "\u001b[0;31mImportError\u001b[0m                               Traceback (most recent call last)",
      "Cell \u001b[0;32mIn[5], line 11\u001b[0m\n\u001b[1;32m      5\u001b[0m cl\u001b[38;5;241m.\u001b[39minstrument_openai()\n\u001b[1;32m      6\u001b[0m settings \u001b[38;5;241m=\u001b[39m {\n\u001b[1;32m      7\u001b[0m     \u001b[38;5;124m\"\u001b[39m\u001b[38;5;124mmodel\u001b[39m\u001b[38;5;124m\"\u001b[39m: \u001b[38;5;124m\"\u001b[39m\u001b[38;5;124mllama3-8b\u001b[39m\u001b[38;5;124m\"\u001b[39m,\n\u001b[1;32m      8\u001b[0m     \u001b[38;5;124m\"\u001b[39m\u001b[38;5;124mtemperature\u001b[39m\u001b[38;5;124m\"\u001b[39m: \u001b[38;5;241m0\u001b[39m,\n\u001b[1;32m      9\u001b[0m }\n\u001b[0;32m---> 11\u001b[0m \u001b[38;5;129;43m@cl\u001b[39;49m\u001b[38;5;241;43m.\u001b[39;49m\u001b[43mon_message\u001b[49m\n\u001b[1;32m     12\u001b[0m \u001b[38;5;28;43;01masync\u001b[39;49;00m\u001b[43m \u001b[49m\u001b[38;5;28;43;01mdef\u001b[39;49;00m\u001b[43m \u001b[49m\u001b[38;5;21;43mon_message\u001b[39;49m\u001b[43m(\u001b[49m\u001b[43mmessage\u001b[49m\u001b[43m:\u001b[49m\u001b[43m \u001b[49m\u001b[43mcl\u001b[49m\u001b[38;5;241;43m.\u001b[39;49m\u001b[43mMessage\u001b[49m\u001b[43m)\u001b[49m\u001b[43m:\u001b[49m\n\u001b[1;32m     13\u001b[0m \u001b[43m    \u001b[49m\u001b[43mresponse\u001b[49m\u001b[43m \u001b[49m\u001b[38;5;241;43m=\u001b[39;49m\u001b[43m \u001b[49m\u001b[38;5;28;43;01mawait\u001b[39;49;00m\u001b[43m \u001b[49m\u001b[43mclient\u001b[49m\u001b[38;5;241;43m.\u001b[39;49m\u001b[43mchat\u001b[49m\u001b[38;5;241;43m.\u001b[39;49m\u001b[43mcompletions\u001b[49m\u001b[38;5;241;43m.\u001b[39;49m\u001b[43mcreate\u001b[49m\u001b[43m(\u001b[49m\n\u001b[1;32m     14\u001b[0m \u001b[43m        \u001b[49m\u001b[43mmessages\u001b[49m\u001b[38;5;241;43m=\u001b[39;49m\u001b[43m[\u001b[49m\n\u001b[1;32m     15\u001b[0m \u001b[43m            \u001b[49m\u001b[43m{\u001b[49m\n\u001b[0;32m   (...)\u001b[0m\n\u001b[1;32m     24\u001b[0m \u001b[43m        \u001b[49m\u001b[38;5;241;43m*\u001b[39;49m\u001b[38;5;241;43m*\u001b[39;49m\u001b[43msettings\u001b[49m\n\u001b[1;32m     25\u001b[0m \u001b[43m    \u001b[49m\u001b[43m)\u001b[49m\n\u001b[1;32m     26\u001b[0m \u001b[43m    \u001b[49m\u001b[38;5;28;43;01mawait\u001b[39;49;00m\u001b[43m \u001b[49m\u001b[43mcl\u001b[49m\u001b[38;5;241;43m.\u001b[39;49m\u001b[43mMessage\u001b[49m\u001b[43m(\u001b[49m\u001b[43mcontent\u001b[49m\u001b[38;5;241;43m=\u001b[39;49m\u001b[43mresponse\u001b[49m\u001b[38;5;241;43m.\u001b[39;49m\u001b[43mchoices\u001b[49m\u001b[43m[\u001b[49m\u001b[38;5;241;43m0\u001b[39;49m\u001b[43m]\u001b[49m\u001b[38;5;241;43m.\u001b[39;49m\u001b[43mmessage\u001b[49m\u001b[38;5;241;43m.\u001b[39;49m\u001b[43mcontent\u001b[49m\u001b[43m)\u001b[49m\u001b[38;5;241;43m.\u001b[39;49m\u001b[43msend\u001b[49m\u001b[43m(\u001b[49m\u001b[43m)\u001b[49m\n",
      "File \u001b[0;32m~/projects/install/miniconda3/envs/farshid/lib/python3.12/site-packages/chainlit/telemetry.py:100\u001b[0m, in \u001b[0;36mtrace.<locals>.wrapper\u001b[0;34m(*args, **kwargs)\u001b[0m\n\u001b[1;32m     98\u001b[0m \u001b[38;5;28;01mif\u001b[39;00m config\u001b[38;5;241m.\u001b[39mproject\u001b[38;5;241m.\u001b[39menable_telemetry:\n\u001b[1;32m     99\u001b[0m     event_name \u001b[38;5;241m=\u001b[39m func\u001b[38;5;241m.\u001b[39m\u001b[38;5;18m__name__\u001b[39m\n\u001b[0;32m--> 100\u001b[0m     \u001b[38;5;28;01mwith\u001b[39;00m \u001b[43mchainlit_telemetry\u001b[49m\u001b[38;5;241;43m.\u001b[39;49m\u001b[43mtracer\u001b[49m\u001b[38;5;241m.\u001b[39mstart_as_current_span(\n\u001b[1;32m    101\u001b[0m         event_name, record_exception\u001b[38;5;241m=\u001b[39m\u001b[38;5;28;01mFalse\u001b[39;00m, set_status_on_exception\u001b[38;5;241m=\u001b[39m\u001b[38;5;28;01mFalse\u001b[39;00m\n\u001b[1;32m    102\u001b[0m     ):\n\u001b[1;32m    103\u001b[0m         \u001b[38;5;28;01mreturn\u001b[39;00m func(\u001b[38;5;241m*\u001b[39margs, \u001b[38;5;241m*\u001b[39m\u001b[38;5;241m*\u001b[39mkwargs)\n\u001b[1;32m    104\u001b[0m \u001b[38;5;28;01melse\u001b[39;00m:\n",
      "File \u001b[0;32m~/projects/install/miniconda3/envs/farshid/lib/python3.12/site-packages/chainlit/telemetry.py:79\u001b[0m, in \u001b[0;36mChainlitTelemetry.tracer\u001b[0;34m(self)\u001b[0m\n\u001b[1;32m     76\u001b[0m \u001b[38;5;129m@property\u001b[39m\n\u001b[1;32m     77\u001b[0m \u001b[38;5;28;01mdef\u001b[39;00m \u001b[38;5;21mtracer\u001b[39m(\u001b[38;5;28mself\u001b[39m) \u001b[38;5;241m-\u001b[39m\u001b[38;5;241m>\u001b[39m \u001b[38;5;124m\"\u001b[39m\u001b[38;5;124mTracer\u001b[39m\u001b[38;5;124m\"\u001b[39m:\n\u001b[1;32m     78\u001b[0m     \u001b[38;5;28;01mif\u001b[39;00m \u001b[38;5;28mself\u001b[39m\u001b[38;5;241m.\u001b[39m_tracer \u001b[38;5;129;01mis\u001b[39;00m \u001b[38;5;28;01mNone\u001b[39;00m:\n\u001b[0;32m---> 79\u001b[0m         \u001b[38;5;28mself\u001b[39m\u001b[38;5;241m.\u001b[39m_tracer \u001b[38;5;241m=\u001b[39m \u001b[38;5;28;43mself\u001b[39;49m\u001b[38;5;241;43m.\u001b[39;49m\u001b[43mconfigure_tracer\u001b[49m\u001b[43m(\u001b[49m\u001b[43m)\u001b[49m\n\u001b[1;32m     81\u001b[0m     \u001b[38;5;28;01mreturn\u001b[39;00m \u001b[38;5;28mself\u001b[39m\u001b[38;5;241m.\u001b[39m_tracer\n",
      "File \u001b[0;32m~/projects/install/miniconda3/envs/farshid/lib/python3.12/site-packages/chainlit/telemetry.py:53\u001b[0m, in \u001b[0;36mChainlitTelemetry.configure_tracer\u001b[0;34m(self)\u001b[0m\n\u001b[1;32m     52\u001b[0m \u001b[38;5;28;01mdef\u001b[39;00m \u001b[38;5;21mconfigure_tracer\u001b[39m(\u001b[38;5;28mself\u001b[39m):\n\u001b[0;32m---> 53\u001b[0m     \u001b[38;5;28;01mimport\u001b[39;00m \u001b[38;5;21;01muptrace\u001b[39;00m\n\u001b[1;32m     54\u001b[0m     \u001b[38;5;28;01mfrom\u001b[39;00m \u001b[38;5;21;01mopentelemetry\u001b[39;00m\u001b[38;5;21;01m.\u001b[39;00m\u001b[38;5;21;01mexporter\u001b[39;00m\u001b[38;5;21;01m.\u001b[39;00m\u001b[38;5;21;01motlp\u001b[39;00m\u001b[38;5;21;01m.\u001b[39;00m\u001b[38;5;21;01mproto\u001b[39;00m\u001b[38;5;21;01m.\u001b[39;00m\u001b[38;5;21;01mgrpc\u001b[39;00m\u001b[38;5;21;01m.\u001b[39;00m\u001b[38;5;21;01mexporter\u001b[39;00m \u001b[38;5;28;01mimport\u001b[39;00m (\n\u001b[1;32m     55\u001b[0m         logger \u001b[38;5;28;01mas\u001b[39;00m exporter_logger,\n\u001b[1;32m     56\u001b[0m     )\n\u001b[1;32m     57\u001b[0m     \u001b[38;5;28;01mfrom\u001b[39;00m \u001b[38;5;21;01mopentelemetry\u001b[39;00m\u001b[38;5;21;01m.\u001b[39;00m\u001b[38;5;21;01mtrace\u001b[39;00m \u001b[38;5;28;01mimport\u001b[39;00m get_tracer\n",
      "File \u001b[0;32m~/projects/install/miniconda3/envs/farshid/lib/python3.12/site-packages/uptrace/__init__.py:4\u001b[0m\n\u001b[1;32m      1\u001b[0m \u001b[38;5;124;03m\"\"\"Uptrace exporter for OpenTelemetry\"\"\"\u001b[39;00m\n\u001b[1;32m      3\u001b[0m \u001b[38;5;28;01mfrom\u001b[39;00m \u001b[38;5;21;01m.\u001b[39;00m\u001b[38;5;21;01mdsn\u001b[39;00m \u001b[38;5;28;01mimport\u001b[39;00m parse_dsn\n\u001b[0;32m----> 4\u001b[0m \u001b[38;5;28;01mfrom\u001b[39;00m \u001b[38;5;21;01m.\u001b[39;00m\u001b[38;5;21;01muptrace\u001b[39;00m \u001b[38;5;28;01mimport\u001b[39;00m (\n\u001b[1;32m      5\u001b[0m     configure_opentelemetry,\n\u001b[1;32m      6\u001b[0m     force_flush,\n\u001b[1;32m      7\u001b[0m     report_exception,\n\u001b[1;32m      8\u001b[0m     shutdown,\n\u001b[1;32m      9\u001b[0m     trace_url,\n\u001b[1;32m     10\u001b[0m )\n\u001b[1;32m     11\u001b[0m \u001b[38;5;28;01mfrom\u001b[39;00m \u001b[38;5;21;01m.\u001b[39;00m\u001b[38;5;21;01mversion\u001b[39;00m \u001b[38;5;28;01mimport\u001b[39;00m __version__\n\u001b[1;32m     13\u001b[0m __all__ \u001b[38;5;241m=\u001b[39m [\n\u001b[1;32m     14\u001b[0m     \u001b[38;5;124m\"\u001b[39m\u001b[38;5;124mconfigure_opentelemetry\u001b[39m\u001b[38;5;124m\"\u001b[39m,\n\u001b[1;32m     15\u001b[0m     \u001b[38;5;124m\"\u001b[39m\u001b[38;5;124mforce_flush\u001b[39m\u001b[38;5;124m\"\u001b[39m,\n\u001b[0;32m   (...)\u001b[0m\n\u001b[1;32m     20\u001b[0m     \u001b[38;5;124m\"\u001b[39m\u001b[38;5;124m__version__\u001b[39m\u001b[38;5;124m\"\u001b[39m,\n\u001b[1;32m     21\u001b[0m ]\n",
      "File \u001b[0;32m~/projects/install/miniconda3/envs/farshid/lib/python3.12/site-packages/uptrace/uptrace.py:11\u001b[0m\n\u001b[1;32m      9\u001b[0m \u001b[38;5;28;01mfrom\u001b[39;00m \u001b[38;5;21;01m.\u001b[39;00m\u001b[38;5;21;01mclient\u001b[39;00m \u001b[38;5;28;01mimport\u001b[39;00m Client\n\u001b[1;32m     10\u001b[0m \u001b[38;5;28;01mfrom\u001b[39;00m \u001b[38;5;21;01m.\u001b[39;00m\u001b[38;5;21;01mdsn\u001b[39;00m \u001b[38;5;28;01mimport\u001b[39;00m parse_dsn\n\u001b[0;32m---> 11\u001b[0m \u001b[38;5;28;01mfrom\u001b[39;00m \u001b[38;5;21;01m.\u001b[39;00m\u001b[38;5;21;01mlogs\u001b[39;00m \u001b[38;5;28;01mimport\u001b[39;00m configure_logs\n\u001b[1;32m     12\u001b[0m \u001b[38;5;28;01mfrom\u001b[39;00m \u001b[38;5;21;01m.\u001b[39;00m\u001b[38;5;21;01mmetrics\u001b[39;00m \u001b[38;5;28;01mimport\u001b[39;00m configure_metrics\n\u001b[1;32m     13\u001b[0m \u001b[38;5;28;01mfrom\u001b[39;00m \u001b[38;5;21;01m.\u001b[39;00m\u001b[38;5;21;01mtraces\u001b[39;00m \u001b[38;5;28;01mimport\u001b[39;00m configure_traces\n",
      "File \u001b[0;32m~/projects/install/miniconda3/envs/farshid/lib/python3.12/site-packages/uptrace/logs.py:5\u001b[0m\n\u001b[1;32m      3\u001b[0m \u001b[38;5;28;01mimport\u001b[39;00m \u001b[38;5;21;01mgrpc\u001b[39;00m\n\u001b[1;32m      4\u001b[0m \u001b[38;5;28;01mfrom\u001b[39;00m \u001b[38;5;21;01mopentelemetry\u001b[39;00m\u001b[38;5;21;01m.\u001b[39;00m\u001b[38;5;21;01m_logs\u001b[39;00m \u001b[38;5;28;01mimport\u001b[39;00m set_logger_provider\n\u001b[0;32m----> 5\u001b[0m \u001b[38;5;28;01mfrom\u001b[39;00m \u001b[38;5;21;01mopentelemetry\u001b[39;00m\u001b[38;5;21;01m.\u001b[39;00m\u001b[38;5;21;01mexporter\u001b[39;00m\u001b[38;5;21;01m.\u001b[39;00m\u001b[38;5;21;01motlp\u001b[39;00m\u001b[38;5;21;01m.\u001b[39;00m\u001b[38;5;21;01mproto\u001b[39;00m\u001b[38;5;21;01m.\u001b[39;00m\u001b[38;5;21;01mgrpc\u001b[39;00m\u001b[38;5;21;01m.\u001b[39;00m\u001b[38;5;21;01m_log_exporter\u001b[39;00m \u001b[38;5;28;01mimport\u001b[39;00m (\n\u001b[1;32m      6\u001b[0m     OTLPLogExporter,\n\u001b[1;32m      7\u001b[0m )\n\u001b[1;32m      8\u001b[0m \u001b[38;5;28;01mfrom\u001b[39;00m \u001b[38;5;21;01mopentelemetry\u001b[39;00m\u001b[38;5;21;01m.\u001b[39;00m\u001b[38;5;21;01msdk\u001b[39;00m\u001b[38;5;21;01m.\u001b[39;00m\u001b[38;5;21;01m_logs\u001b[39;00m \u001b[38;5;28;01mimport\u001b[39;00m LoggerProvider, LoggingHandler\n\u001b[1;32m      9\u001b[0m \u001b[38;5;28;01mfrom\u001b[39;00m \u001b[38;5;21;01mopentelemetry\u001b[39;00m\u001b[38;5;21;01m.\u001b[39;00m\u001b[38;5;21;01msdk\u001b[39;00m\u001b[38;5;21;01m.\u001b[39;00m\u001b[38;5;21;01m_logs\u001b[39;00m\u001b[38;5;21;01m.\u001b[39;00m\u001b[38;5;21;01mexport\u001b[39;00m \u001b[38;5;28;01mimport\u001b[39;00m BatchLogRecordProcessor\n",
      "File \u001b[0;32m~/projects/install/miniconda3/envs/farshid/lib/python3.12/site-packages/opentelemetry/exporter/otlp/proto/grpc/_log_exporter/__init__.py:19\u001b[0m\n\u001b[1;32m     16\u001b[0m \u001b[38;5;28;01mfrom\u001b[39;00m \u001b[38;5;21;01mtyping\u001b[39;00m \u001b[38;5;28;01mimport\u001b[39;00m Sequence \u001b[38;5;28;01mas\u001b[39;00m TypingSequence\n\u001b[1;32m     17\u001b[0m \u001b[38;5;28;01mfrom\u001b[39;00m \u001b[38;5;21;01mgrpc\u001b[39;00m \u001b[38;5;28;01mimport\u001b[39;00m ChannelCredentials, Compression\n\u001b[0;32m---> 19\u001b[0m \u001b[38;5;28;01mfrom\u001b[39;00m \u001b[38;5;21;01mopentelemetry\u001b[39;00m\u001b[38;5;21;01m.\u001b[39;00m\u001b[38;5;21;01mexporter\u001b[39;00m\u001b[38;5;21;01m.\u001b[39;00m\u001b[38;5;21;01motlp\u001b[39;00m\u001b[38;5;21;01m.\u001b[39;00m\u001b[38;5;21;01mproto\u001b[39;00m\u001b[38;5;21;01m.\u001b[39;00m\u001b[38;5;21;01mcommon\u001b[39;00m\u001b[38;5;21;01m.\u001b[39;00m\u001b[38;5;21;01m_log_encoder\u001b[39;00m \u001b[38;5;28;01mimport\u001b[39;00m encode_logs\n\u001b[1;32m     20\u001b[0m \u001b[38;5;28;01mfrom\u001b[39;00m \u001b[38;5;21;01mopentelemetry\u001b[39;00m\u001b[38;5;21;01m.\u001b[39;00m\u001b[38;5;21;01mexporter\u001b[39;00m\u001b[38;5;21;01m.\u001b[39;00m\u001b[38;5;21;01motlp\u001b[39;00m\u001b[38;5;21;01m.\u001b[39;00m\u001b[38;5;21;01mproto\u001b[39;00m\u001b[38;5;21;01m.\u001b[39;00m\u001b[38;5;21;01mgrpc\u001b[39;00m\u001b[38;5;21;01m.\u001b[39;00m\u001b[38;5;21;01mexporter\u001b[39;00m \u001b[38;5;28;01mimport\u001b[39;00m (\n\u001b[1;32m     21\u001b[0m     OTLPExporterMixin,\n\u001b[1;32m     22\u001b[0m     _get_credentials,\n\u001b[1;32m     23\u001b[0m     environ_to_compression,\n\u001b[1;32m     24\u001b[0m )\n\u001b[1;32m     25\u001b[0m \u001b[38;5;28;01mfrom\u001b[39;00m \u001b[38;5;21;01mopentelemetry\u001b[39;00m\u001b[38;5;21;01m.\u001b[39;00m\u001b[38;5;21;01mproto\u001b[39;00m\u001b[38;5;21;01m.\u001b[39;00m\u001b[38;5;21;01mcollector\u001b[39;00m\u001b[38;5;21;01m.\u001b[39;00m\u001b[38;5;21;01mlogs\u001b[39;00m\u001b[38;5;21;01m.\u001b[39;00m\u001b[38;5;21;01mv1\u001b[39;00m\u001b[38;5;21;01m.\u001b[39;00m\u001b[38;5;21;01mlogs_service_pb2\u001b[39;00m \u001b[38;5;28;01mimport\u001b[39;00m (\n\u001b[1;32m     26\u001b[0m     ExportLogsServiceRequest,\n\u001b[1;32m     27\u001b[0m )\n",
      "File \u001b[0;32m~/projects/install/miniconda3/envs/farshid/lib/python3.12/site-packages/opentelemetry/exporter/otlp/proto/common/_log_encoder.py:16\u001b[0m\n\u001b[1;32m      1\u001b[0m \u001b[38;5;66;03m# Copyright The OpenTelemetry Authors\u001b[39;00m\n\u001b[1;32m      2\u001b[0m \u001b[38;5;66;03m#\u001b[39;00m\n\u001b[1;32m      3\u001b[0m \u001b[38;5;66;03m# Licensed under the Apache License, Version 2.0 (the \"License\");\u001b[39;00m\n\u001b[0;32m   (...)\u001b[0m\n\u001b[1;32m     12\u001b[0m \u001b[38;5;66;03m# See the License for the specific language governing permissions and\u001b[39;00m\n\u001b[1;32m     13\u001b[0m \u001b[38;5;66;03m# limitations under the License.\u001b[39;00m\n\u001b[0;32m---> 16\u001b[0m \u001b[38;5;28;01mfrom\u001b[39;00m \u001b[38;5;21;01mopentelemetry\u001b[39;00m\u001b[38;5;21;01m.\u001b[39;00m\u001b[38;5;21;01mexporter\u001b[39;00m\u001b[38;5;21;01m.\u001b[39;00m\u001b[38;5;21;01motlp\u001b[39;00m\u001b[38;5;21;01m.\u001b[39;00m\u001b[38;5;21;01mproto\u001b[39;00m\u001b[38;5;21;01m.\u001b[39;00m\u001b[38;5;21;01mcommon\u001b[39;00m\u001b[38;5;21;01m.\u001b[39;00m\u001b[38;5;21;01m_internal\u001b[39;00m\u001b[38;5;21;01m.\u001b[39;00m\u001b[38;5;21;01m_log_encoder\u001b[39;00m \u001b[38;5;28;01mimport\u001b[39;00m (\n\u001b[1;32m     17\u001b[0m     encode_logs,\n\u001b[1;32m     18\u001b[0m )\n\u001b[1;32m     20\u001b[0m __all__ \u001b[38;5;241m=\u001b[39m [\u001b[38;5;124m\"\u001b[39m\u001b[38;5;124mencode_logs\u001b[39m\u001b[38;5;124m\"\u001b[39m]\n",
      "File \u001b[0;32m~/projects/install/miniconda3/envs/farshid/lib/python3.12/site-packages/opentelemetry/exporter/otlp/proto/common/_internal/__init__.py:31\u001b[0m\n\u001b[1;32m     19\u001b[0m \u001b[38;5;28;01mfrom\u001b[39;00m \u001b[38;5;21;01mtyping\u001b[39;00m \u001b[38;5;28;01mimport\u001b[39;00m (\n\u001b[1;32m     20\u001b[0m     Any,\n\u001b[1;32m     21\u001b[0m     Mapping,\n\u001b[0;32m   (...)\u001b[0m\n\u001b[1;32m     27\u001b[0m     Iterator,\n\u001b[1;32m     28\u001b[0m )\n\u001b[1;32m     30\u001b[0m \u001b[38;5;28;01mfrom\u001b[39;00m \u001b[38;5;21;01mopentelemetry\u001b[39;00m\u001b[38;5;21;01m.\u001b[39;00m\u001b[38;5;21;01msdk\u001b[39;00m\u001b[38;5;21;01m.\u001b[39;00m\u001b[38;5;21;01mutil\u001b[39;00m\u001b[38;5;21;01m.\u001b[39;00m\u001b[38;5;21;01minstrumentation\u001b[39;00m \u001b[38;5;28;01mimport\u001b[39;00m InstrumentationScope\n\u001b[0;32m---> 31\u001b[0m \u001b[38;5;28;01mfrom\u001b[39;00m \u001b[38;5;21;01mopentelemetry\u001b[39;00m\u001b[38;5;21;01m.\u001b[39;00m\u001b[38;5;21;01mproto\u001b[39;00m\u001b[38;5;21;01m.\u001b[39;00m\u001b[38;5;21;01mcommon\u001b[39;00m\u001b[38;5;21;01m.\u001b[39;00m\u001b[38;5;21;01mv1\u001b[39;00m\u001b[38;5;21;01m.\u001b[39;00m\u001b[38;5;21;01mcommon_pb2\u001b[39;00m \u001b[38;5;28;01mimport\u001b[39;00m (\n\u001b[1;32m     32\u001b[0m     InstrumentationScope \u001b[38;5;28;01mas\u001b[39;00m PB2InstrumentationScope,\n\u001b[1;32m     33\u001b[0m )\n\u001b[1;32m     34\u001b[0m \u001b[38;5;28;01mfrom\u001b[39;00m \u001b[38;5;21;01mopentelemetry\u001b[39;00m\u001b[38;5;21;01m.\u001b[39;00m\u001b[38;5;21;01mproto\u001b[39;00m\u001b[38;5;21;01m.\u001b[39;00m\u001b[38;5;21;01mresource\u001b[39;00m\u001b[38;5;21;01m.\u001b[39;00m\u001b[38;5;21;01mv1\u001b[39;00m\u001b[38;5;21;01m.\u001b[39;00m\u001b[38;5;21;01mresource_pb2\u001b[39;00m \u001b[38;5;28;01mimport\u001b[39;00m (\n\u001b[1;32m     35\u001b[0m     Resource \u001b[38;5;28;01mas\u001b[39;00m PB2Resource,\n\u001b[1;32m     36\u001b[0m )\n\u001b[1;32m     37\u001b[0m \u001b[38;5;28;01mfrom\u001b[39;00m \u001b[38;5;21;01mopentelemetry\u001b[39;00m\u001b[38;5;21;01m.\u001b[39;00m\u001b[38;5;21;01mproto\u001b[39;00m\u001b[38;5;21;01m.\u001b[39;00m\u001b[38;5;21;01mcommon\u001b[39;00m\u001b[38;5;21;01m.\u001b[39;00m\u001b[38;5;21;01mv1\u001b[39;00m\u001b[38;5;21;01m.\u001b[39;00m\u001b[38;5;21;01mcommon_pb2\u001b[39;00m \u001b[38;5;28;01mimport\u001b[39;00m AnyValue \u001b[38;5;28;01mas\u001b[39;00m PB2AnyValue\n",
      "File \u001b[0;32m~/projects/install/miniconda3/envs/farshid/lib/python3.12/site-packages/opentelemetry/proto/common/v1/common_pb2.py:5\u001b[0m\n\u001b[1;32m      1\u001b[0m \u001b[38;5;66;03m# -*- coding: utf-8 -*-\u001b[39;00m\n\u001b[1;32m      2\u001b[0m \u001b[38;5;66;03m# Generated by the protocol buffer compiler.  DO NOT EDIT!\u001b[39;00m\n\u001b[1;32m      3\u001b[0m \u001b[38;5;66;03m# source: opentelemetry/proto/common/v1/common.proto\u001b[39;00m\n\u001b[1;32m      4\u001b[0m \u001b[38;5;124;03m\"\"\"Generated protocol buffer code.\"\"\"\u001b[39;00m\n\u001b[0;32m----> 5\u001b[0m \u001b[38;5;28;01mfrom\u001b[39;00m \u001b[38;5;21;01mgoogle\u001b[39;00m\u001b[38;5;21;01m.\u001b[39;00m\u001b[38;5;21;01mprotobuf\u001b[39;00m \u001b[38;5;28;01mimport\u001b[39;00m descriptor \u001b[38;5;28;01mas\u001b[39;00m _descriptor\n\u001b[1;32m      6\u001b[0m \u001b[38;5;28;01mfrom\u001b[39;00m \u001b[38;5;21;01mgoogle\u001b[39;00m\u001b[38;5;21;01m.\u001b[39;00m\u001b[38;5;21;01mprotobuf\u001b[39;00m \u001b[38;5;28;01mimport\u001b[39;00m descriptor_pool \u001b[38;5;28;01mas\u001b[39;00m _descriptor_pool\n\u001b[1;32m      7\u001b[0m \u001b[38;5;28;01mfrom\u001b[39;00m \u001b[38;5;21;01mgoogle\u001b[39;00m\u001b[38;5;21;01m.\u001b[39;00m\u001b[38;5;21;01mprotobuf\u001b[39;00m \u001b[38;5;28;01mimport\u001b[39;00m message \u001b[38;5;28;01mas\u001b[39;00m _message\n",
      "\u001b[0;31mImportError\u001b[0m: cannot import name 'descriptor' from 'google.protobuf' (unknown location)"
     ]
    }
   ],
   "source": [
    "from openai import AsyncOpenAI\n",
    "import chainlit as cl\n",
    "\n",
    "client = AsyncOpenAI(base_url=\"http://localhost:8080/v1\", api_key=\"fake-key\")\n",
    "cl.instrument_openai()\n",
    "settings = {\n",
    "    \"model\": \"llama3-8b\",\n",
    "    \"temperature\": 0,\n",
    "}\n",
    "\n",
    "@cl.on_message\n",
    "async def on_message(message: cl.Message):\n",
    "    response = await client.chat.completions.create(\n",
    "        messages=[\n",
    "            {\n",
    "                \"content\": \"You are a helpful bot, you reply includes Emojis\",\n",
    "                \"role\": \"system\"\n",
    "            },\n",
    "            {\n",
    "                \"content\": message.content,\n",
    "                \"role\": \"user\"\n",
    "            }\n",
    "        ],\n",
    "        **settings\n",
    "    )\n",
    "    await cl.Message(content=response.choices[0].message.content).send()"
   ]
  },
  {
   "cell_type": "code",
   "execution_count": 8,
   "metadata": {},
   "outputs": [],
   "source": [
    "import chainlit as cl\n",
    "\n",
    "@cl.on_message\n",
    "async def main(message: str):\n",
    "    # Respond to incoming user messages\n",
    "    if message.lower() == \"hello\":\n",
    "        await cl.send_message(\"Hello! How can I assist you today?\")\n",
    "    else:\n",
    "        await cl.send_message(\"I'm here to help! Please tell me what you need.\")"
   ]
  },
  {
   "cell_type": "code",
   "execution_count": 7,
   "metadata": {},
   "outputs": [
    {
     "name": "stdout",
     "output_type": "stream",
     "text": [
      "Requirement already satisfied: protobuf in /Users/farshid/projects/install/miniconda3/envs/farshid/lib/python3.12/site-packages (4.25.3)\n",
      "Collecting protobuf\n",
      "  Downloading protobuf-5.28.3-cp38-abi3-macosx_10_9_universal2.whl.metadata (592 bytes)\n",
      "Downloading protobuf-5.28.3-cp38-abi3-macosx_10_9_universal2.whl (414 kB)\n",
      "Installing collected packages: protobuf\n",
      "  Attempting uninstall: protobuf\n",
      "    Found existing installation: protobuf 4.25.3\n",
      "    Uninstalling protobuf-4.25.3:\n",
      "      Successfully uninstalled protobuf-4.25.3\n",
      "\u001b[31mERROR: pip's dependency resolver does not currently take into account all the packages that are installed. This behaviour is the source of the following dependency conflicts.\n",
      "mediapipe 0.10.15 requires protobuf<5,>=4.25.3, but you have protobuf 5.28.3 which is incompatible.\n",
      "opentelemetry-proto 1.27.0 requires protobuf<5.0,>=3.19, but you have protobuf 5.28.3 which is incompatible.\n",
      "coremltools 7.2 requires protobuf<=4.0.0,>=3.1.0, but you have protobuf 5.28.3 which is incompatible.\u001b[0m\u001b[31m\n",
      "\u001b[0mSuccessfully installed protobuf-5.28.3\n",
      "\n",
      "\u001b[1m[\u001b[0m\u001b[34;49mnotice\u001b[0m\u001b[1;39;49m]\u001b[0m\u001b[39;49m A new release of pip is available: \u001b[0m\u001b[31;49m24.2\u001b[0m\u001b[39;49m -> \u001b[0m\u001b[32;49m24.3.1\u001b[0m\n",
      "\u001b[1m[\u001b[0m\u001b[34;49mnotice\u001b[0m\u001b[1;39;49m]\u001b[0m\u001b[39;49m To update, run: \u001b[0m\u001b[32;49mpip install --upgrade pip\u001b[0m\n"
     ]
    }
   ],
   "source": [
    "!pip install --upgrade protobuf"
   ]
  },
  {
   "cell_type": "code",
   "execution_count": 12,
   "metadata": {},
   "outputs": [
    {
     "name": "stdout",
     "output_type": "stream",
     "text": [
      "2024-11-03 23:20:21 - Your app is available at http://localhost:8000\n",
      "2024-11-03 23:20:22 - Translated markdown file for en-US not found. Defaulting to chainlit.md.\n",
      "^C\n"
     ]
    }
   ],
   "source": [
    "!chainlit run ui.py"
   ]
  },
  {
   "cell_type": "code",
   "execution_count": null,
   "metadata": {},
   "outputs": [],
   "source": []
  }
 ],
 "metadata": {
  "kernelspec": {
   "display_name": "farshid",
   "language": "python",
   "name": "python3"
  },
  "language_info": {
   "codemirror_mode": {
    "name": "ipython",
    "version": 3
   },
   "file_extension": ".py",
   "mimetype": "text/x-python",
   "name": "python",
   "nbconvert_exporter": "python",
   "pygments_lexer": "ipython3",
   "version": "3.12.2"
  }
 },
 "nbformat": 4,
 "nbformat_minor": 2
}
